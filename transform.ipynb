{
 "cells": [
  {
   "cell_type": "code",
   "execution_count": null,
   "metadata": {},
   "outputs": [],
   "source": [
    "import random\n",
    "import cv2\n",
    "from torchvision import transforms\n",
    "import torchvision.transforms.functional as tf\n",
    "from PIL import Image\n",
    "\n",
    "def transform1(image, mask):\n",
    "        angle = transforms.RandomRotation.get_params([-180, 180])#random angle\n",
    "        image = image.rotate(angle)\n",
    "        mask = mask.rotate(angle)#same angle rotation  \n",
    "        image = tf.to_tensor(image)\n",
    "        mask = tf.to_tensor(mask)\n",
    "        return image, mask\n",
    "\n",
    "def transform2(image, mask):\n",
    "    # for flip\n",
    "    if random.random() > 0.5:\n",
    "        image = tf.hflip(image)\n",
    "        mask = tf.hflip(mask)\n",
    "    if random.random() > 0.5:\n",
    "        image = tf.vflip(image)\n",
    "        mask = tf.vflip(mask)\n",
    "    image = tf.to_tensor(image)\n",
    "    mask = tf.to_tensor(mask)\n",
    "    return image, mask\n",
    "\n"
   ]
  },
  {
   "cell_type": "code",
   "execution_count": null,
   "metadata": {},
   "outputs": [],
   "source": [
    "image = Image.open('./0.jpg') # 原图\n",
    "mask = Image.open('./1.jpg') # mask\n",
    "\n",
    "image_tensor, mask_tensor = transform1(image, mask)\n",
    "\n",
    "#turn tensor to PIL Image\n",
    "image_rotate = transforms.ToPILImage()(image_tensor).convert('L').save('0_rotate.jpg')\n",
    "mask_rotate = transforms.ToPILImage()(mask_tensor).convert('L').save('1_rotate.jpg')\n"
   ]
  }
 ],
 "metadata": {
  "kernelspec": {
   "display_name": "Python 3",
   "language": "python",
   "name": "python3"
  },
  "language_info": {
   "codemirror_mode": {
    "name": "ipython",
    "version": 3
   },
   "file_extension": ".py",
   "mimetype": "text/x-python",
   "name": "python",
   "nbconvert_exporter": "python",
   "pygments_lexer": "ipython3",
   "version": "3.7.4"
  }
 },
 "nbformat": 4,
 "nbformat_minor": 2
}
